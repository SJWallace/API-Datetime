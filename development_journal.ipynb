{
 "cells": [
  {
   "cell_type": "markdown",
   "metadata": {
    "collapsed": true,
    "pycharm": {
     "name": "#%% md\n"
    }
   },
   "source": [
    "This repository and project has a few personal and functional objectives\n",
    "\n",
    "### Personal\n",
    "1. Develop habit of using git and version control as I'm developing and writing functions\n",
    "2. Teach myself how to write useful unit tests\n",
    "3. Learn about flask and deploying an API\n",
    "\n",
    "### Functional\n",
    "1. Write an API that can return the number of days, weekdays and complete weeks between two arbitrary dates with\n",
    "timezones and return the result in any specified time unit (seconds, minutes, hours, days, years)\n",
    "2. Make the solution easy to deploy (possibly a docker container)\n",
    "3. Once written in Python, reimplement in PHP (separate repo)\n",
    "\n",
    "The purpose of this python notebook is to document the development process (outside of commits) and have small\n",
    "tests of code as well design decisions\n",
    "\n",
    "### The breakdown\n",
    "It's always good to have a plan of how to tackle the problem and break it up into small chunks.\n",
    "\n",
    "1. Core functionality. Finding days between two dates is easy, weekdays and complete weeks will need some thought\n",
    "2. Write unit tests to validate the core functionality. Generate a set of dates and potential problem values,\n",
    "check their results on some publicly available API (https://www.timeanddate.com/date/workdays.html), use these\n",
    "values as correct behaviour\n",
    "3. Write a parsing function to validate that the strings fed into the API generate valid aware datetime objects\n",
    "4. Write unit tests to validate parsing function with a few inputs to make sure it gracefully handles results\n",
    "5. Implement flask API and function routing\n",
    "6. Write up some documentation\n",
    "\n",
    "I expect I will get stuck on determining and algorithm for 1"
   ]
  },
  {
   "cell_type": "code",
   "execution_count": 6,
   "outputs": [],
   "source": [
    "# First we'll define some arbitrary strings to testing the function\n",
    "\n",
    "time1 = '2020-09-14 00:00:00+08:30' # same local time in two different timezones\n",
    "time2 = '2020-09-14 00:00:00+00:00' # same local time in two different timezones\n",
    "time3 = '2016-02-29 00:00:00+00:00' # Leap year\n",
    "time4 = '2017-11-23 13:00:50+00:00' # random date with a time"
   ],
   "metadata": {
    "collapsed": false,
    "pycharm": {
     "name": "#%%\n"
    }
   }
  },
  {
   "cell_type": "markdown",
   "source": [
    "Let's check the web for what it thinks the values of these should be\n",
    "1. time1-time2 is 8:30\n",
    "2. time1-time3 is 1658 days, 14 hours, 30 minutes\n",
    "3. time1-time4 is 1025 days, 1 hour, 29 minutes and 10 seconds"
   ],
   "metadata": {
    "collapsed": false,
    "pycharm": {
     "name": "#%% md\n"
    }
   }
  },
  {
   "cell_type": "code",
   "execution_count": 8,
   "outputs": [
    {
     "name": "stdout",
     "output_type": "stream",
     "text": [
      "8:30:00\n",
      "-1659 days, 8:30:00\n",
      "-1026 days, 21:30:50\n"
     ]
    }
   ],
   "source": [
    "import datetime as dt\n",
    "# Let's write the function to calculate the days between the dates\n",
    "def days_between_dates(date1,date2):\n",
    "    date1 = dt.datetime.fromisoformat(date1)\n",
    "    date2 = dt.datetime.fromisoformat(date2)\n",
    "    timedelta = date2-date1\n",
    "    return timedelta\n",
    "\n",
    "print(days_between_dates(time1, time2))\n",
    "print(days_between_dates(time1, time3))\n",
    "print(days_between_dates(time1, time4))"
   ],
   "metadata": {
    "collapsed": false,
    "pycharm": {
     "name": "#%%\n"
    }
   }
  },
  {
   "cell_type": "markdown",
   "source": [
    "So some issues to resolve and debug, but the start is there. We've got the starting of our unit tests, as\n",
    "well as something worth committing. We'll move this function to its own file now and just import into the note\n",
    "book for testing."
   ],
   "metadata": {
    "collapsed": false
   }
  }
 ],
 "metadata": {
  "kernelspec": {
   "display_name": "Python 3",
   "language": "python",
   "name": "python3"
  },
  "language_info": {
   "codemirror_mode": {
    "name": "ipython",
    "version": 2
   },
   "file_extension": ".py",
   "mimetype": "text/x-python",
   "name": "python",
   "nbconvert_exporter": "python",
   "pygments_lexer": "ipython2",
   "version": "2.7.6"
  }
 },
 "nbformat": 4,
 "nbformat_minor": 0
}