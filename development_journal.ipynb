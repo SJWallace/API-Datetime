{
 "cells": [
  {
   "cell_type": "markdown",
   "metadata": {
    "collapsed": true,
    "pycharm": {
     "name": "#%% md\n"
    }
   },
   "source": [
    "This repository and project has a few personal and functional objectives\n",
    "\n",
    "### Personal\n",
    "1. Develop habit of using git and version control as I'm developing and writing functions\n",
    "2. Teach myself how to write useful unit tests\n",
    "3. Learn about flask and deploying an API\n",
    "\n",
    "### Functional\n",
    "1. Write an API that can return the number of days, weekdays and complete weeks between two arbitrary dates with\n",
    "timezones and return the result in any specified time unit (seconds, minutes, hours, days, years)\n",
    "2. Make the solution easy to deploy (possibly a docker container)\n",
    "3. Once written in Python, reimplement in PHP (separate repo)\n",
    "\n",
    "The purpose of this python notebook is to document the development process (outside of commits) and have small\n",
    "tests of code as well design decisions\n",
    "\n",
    "### The breakdown\n",
    "It's always good to have a plan of how to tackle the problem and break it up into small chunks.\n",
    "\n",
    "1. Core functionality. Finding days between two dates is easy, weekdays and complete weeks will need some thought\n",
    "2. Write unit tests to validate the core functionality. Generate a set of dates and potential problem values,\n",
    "check their results on some publicly available API (https://www.timeanddate.com/date/workdays.html), use these\n",
    "values as correct behaviour\n",
    "3. Write a parsing function to validate that the strings fed into the API generate valid aware datetime objects\n",
    "4. Write unit tests to validate parsing function with a few inputs to make sure it gracefully handles results\n",
    "5. Implement flask API and function routing\n",
    "6. Write up some documentation\n",
    "\n",
    "I expect I will get stuck on determining and algorithm for 1"
   ]
  },
  {
   "cell_type": "code",
   "execution_count": 13,
   "metadata": {
    "pycharm": {
     "name": "#%%\n"
    }
   },
   "outputs": [],
   "source": [
    "# First we'll define some arbitrary strings to testing the function\n",
    "\n",
    "time1 = '2020-09-14 00:00:00+08:30' # same local time in two different timezones\n",
    "time2 = '2020-09-14 00:00:00+00:00' # same local time in two different timezones\n",
    "time3 = '2016-02-29 00:00:00+00:00' # Leap year\n",
    "time4 = '2017-11-23 13:00:50+00:00' # random date with a time"
   ]
  },
  {
   "cell_type": "markdown",
   "metadata": {
    "pycharm": {
     "name": "#%% md\n"
    }
   },
   "source": [
    "Let's check the web for what it thinks the values of these should be\n",
    "1. time1-time2 is 8:30\n",
    "2. time1-time3 is 1658 days, 14 hours, 30 minutes\n",
    "3. time1-time4 is 1025 days, 1 hour, 29 minutes and 10 seconds"
   ]
  },
  {
   "cell_type": "code",
   "execution_count": 14,
   "metadata": {
    "pycharm": {
     "name": "#%%\n"
    }
   },
   "outputs": [
    {
     "name": "stdout",
     "output_type": "stream",
     "text": [
      "8:30:00\n",
      "-1659 days, 8:30:00\n",
      "-1026 days, 21:30:50\n"
     ]
    }
   ],
   "source": [
    "import datetime as dt\n",
    "# Let's write the function to calculate the days between the dates\n",
    "def days_between_dates(date1,date2):\n",
    "    date1 = dt.datetime.fromisoformat(date1)\n",
    "    date2 = dt.datetime.fromisoformat(date2)\n",
    "    timedelta = date2-date1\n",
    "    return timedelta\n",
    "\n",
    "print(days_between_dates(time1, time2))\n",
    "print(days_between_dates(time1, time3))\n",
    "print(days_between_dates(time1, time4))"
   ]
  },
  {
   "cell_type": "markdown",
   "metadata": {},
   "source": [
    "So some issues to resolve and debug, but the start is there. We've got the starting of our unit tests, as\n",
    "well as something worth committing. We'll move this function to its own file now and just import into the note\n",
    "book for testing."
   ]
  },
  {
   "cell_type": "code",
   "execution_count": 15,
   "metadata": {
    "pycharm": {
     "name": "#%%\n"
    }
   },
   "outputs": [
    {
     "name": "stdout",
     "output_type": "stream",
     "text": [
      "(0, 0, 0)\n",
      "(1658, 1185, 1652)\n",
      "(1025, 732, 1022)\n"
     ]
    }
   ],
   "source": [
    "from api_date_functions import *\n",
    "print(time_between_dates(time1, time2))\n",
    "print(time_between_dates(time1, time3))\n",
    "print(time_between_dates(time1, time4))"
   ]
  },
  {
   "cell_type": "markdown",
   "metadata": {},
   "source": [
    "Modified the function to take the abs(timedelta)\n",
    "\n",
    "Looks like the values are right, except they are off by an hour, this could be a daylight savings difference\n",
    "between how the web version calculated and how python calculates. At any rate, we're calculating the number of\n",
    "days correctly now. Next is to establish how many weekdays are within a timespan, so we'll set up another set\n",
    "of test values and have a play around"
   ]
  },
  {
   "cell_type": "code",
   "execution_count": 16,
   "metadata": {
    "pycharm": {
     "name": "#%%\n"
    }
   },
   "outputs": [
    {
     "name": "stdout",
     "output_type": "stream",
     "text": [
      "0 6\n",
      "0 0\n"
     ]
    },
    {
     "data": {
      "text/plain": "datetime.timedelta(days=21)"
     },
     "execution_count": 16,
     "metadata": {},
     "output_type": "execute_result"
    }
   ],
   "source": [
    "weekday1 = '2020-11-23 00:00:00+00:00'  #Monday\n",
    "weekday2 = '2020-11-22 00:00:00+00:00'  #Sunday\n",
    "weekday3 = '2020-11-30 00:00:00+00:00'  #Next Monday\n",
    "weekday4 = '2020-12-14 00:00:00+00:00'  #Three weeks\n",
    "weekday5 = '2020-12-15 00:00:00+00:00'  #Three weeks + 1 day\n",
    "\n",
    "def weekdays_between_dates(date1,date2):\n",
    "    date1 = dt.datetime.fromisoformat(date1)\n",
    "    date2 = dt.datetime.fromisoformat(date2)\n",
    "    # Find out what days the start and end date are\n",
    "    print(date1.weekday(),date2.weekday())\n",
    "    timedelta = abs(date1-date2)\n",
    "    return timedelta\n",
    "\n",
    "weekdays_between_dates(weekday1,weekday2)\n",
    "weekdays_between_dates(weekday1,weekday4)"
   ]
  },
  {
   "cell_type": "markdown",
   "metadata": {},
   "source": [
    "Ok, we can establish what day of the week a time interval will start and end on, as represented by an integer\n",
    "The number of weekdays can be established by considering the start day, end day and total number of days.\n",
    "Start by making a 7 x 1 array, where each element is the count of each weekday. Every 7 days should add 1 to every element\n",
    "We only need to consider what the the remainder days after dividing total days by 7 and ensure those remainder days\n",
    "are added to the right elements. Then we can sum up the elements of the array that don't match a mask corresponding\n",
    "to weekends."
   ]
  },
  {
   "cell_type": "code",
   "execution_count": 17,
   "metadata": {
    "pycharm": {
     "name": "#%%\n"
    }
   },
   "outputs": [
    {
     "name": "stdout",
     "output_type": "stream",
     "text": [
      "0\n",
      "1\n",
      "2\n",
      "3\n",
      "4\n",
      "5\n",
      "6\n",
      "{0: 0, 1: 0, 2: 0, 3: 0, 4: 0, 5: 0, 6: 0}\n",
      "0\n",
      "1\n",
      "2\n",
      "3\n",
      "4\n",
      "5\n",
      "6\n",
      "{0: 3, 1: 3, 2: 3, 3: 3, 4: 3, 5: 3, 6: 3}\n",
      "5\n",
      "6\n",
      "7\n",
      "8\n",
      "9\n",
      "10\n",
      "11\n",
      "{0: 236, 1: 236, 2: 236, 3: 236, 4: 236, 5: 236, 6: 236}\n"
     ]
    }
   ],
   "source": [
    "def weekdays_between_dates(date1,date2):\n",
    "    date1 = dt.datetime.fromisoformat(date1)\n",
    "    date2 = dt.datetime.fromisoformat(date2)\n",
    "    # Find out what days the start and end date are\n",
    "    start_day = date1.weekday()\n",
    "    end_day = date2.weekday()\n",
    "    # Make the weekday mask, this will add some extensibility if we need to define weekends differently\n",
    "    # for an upcoming 4 day work week at some point\n",
    "    weekdays_mask = [0, 1, 2, 3, 4]  #5 and 6 correspond to saturday and sunday\n",
    "    timedelta = abs(date1-date2)\n",
    "    total_days = timedelta.days\n",
    "    # Initialise a dictionary to track number of each weekday\n",
    "    weekday_count = {0 : 0, 1 : 0, 2 : 0, 3 : 0, 4 : 0, 5 : 0, 6 : 0}\n",
    "    total_weeks = total_days // 7\n",
    "    remainder_days = total_days % 7\n",
    "    for day in weekday_count:\n",
    "        weekday_count[day] += total_weeks\n",
    "        offset_day = remainder_days - start_day + day - 1\n",
    "        print(offset_day)\n",
    "    # Now workout the offset and use it with start_day to add to the correct elements in the dictionary\n",
    "    print(weekday_count)\n",
    "\n",
    "weekdays_between_dates(weekday1,weekday2)\n",
    "weekdays_between_dates(weekday1,weekday5)\n",
    "weekdays_between_dates(time1, time3)"
   ]
  },
  {
   "cell_type": "markdown",
   "metadata": {},
   "source": [
    "The function is collecting the right amount of weeks and total days, but we need to think about how the start\n",
    "day, end day, remainder and offset work so as we loop through the dictionary we're only adding +1 to the right\n",
    "element. Upon consideration, the total number of extra days can be at most 6. So a 7 element array with 0 or 1\n",
    "indicating which days need to be added to the total will work. Then we just need to rotate the values of that array\n",
    "on a loop until the start day matches the integer representation"
   ]
  },
  {
   "cell_type": "code",
   "execution_count": 18,
   "metadata": {
    "pycharm": {
     "name": "#%%\n"
    }
   },
   "outputs": [],
   "source": [
    "def rotate_array(array,value):\n",
    "    #rotates an array or list to the left by value, use a negative value to rotate to the right\n",
    "    array = array[value:] + array[:value]\n",
    "    return array\n",
    "\n",
    "test = [1,1,1,0,0,0,0]\n",
    "rotate_array(test,-3)\n",
    "value = 2\n",
    "test = [ 1 if i < value else 0 for i in range(7) ]"
   ]
  },
  {
   "cell_type": "code",
   "execution_count": 19,
   "metadata": {
    "pycharm": {
     "name": "#%%\n"
    }
   },
   "outputs": [
    {
     "data": {
      "text/plain": "(22, 16, 3)"
     },
     "execution_count": 19,
     "metadata": {},
     "output_type": "execute_result"
    }
   ],
   "source": [
    "def weekdays_between_dates(date1,date2):\n",
    "    date1 = dt.datetime.fromisoformat(date1)\n",
    "    date2 = dt.datetime.fromisoformat(date2)\n",
    "    # Find out what days the start and end date are\n",
    "    start_day = date1.weekday()\n",
    "    # Make the weekday mask, this will add some extensibility if we need to define weekends differently\n",
    "    # for an upcoming 4 day work week at some point\n",
    "    weekdays_mask = [0, 1, 2, 3, 4]  #5 and 6 correspond to saturday and sunday\n",
    "    timedelta = abs(date1-date2)\n",
    "    total_days = timedelta.days\n",
    "    # Initialise a dictionary to track number of each weekday\n",
    "    weekday_count = {0 : 0, 1 : 0, 2 : 0, 3 : 0, 4 : 0, 5 : 0, 6 : 0}\n",
    "    total_weeks = total_days // 7\n",
    "    remainder_days = total_days % 7\n",
    "    # Need to create array for remaining weekdays and rotate it to line up to start day\n",
    "    extra_days = [1 if i < remainder_days else 0 for i in range(7)]\n",
    "    extra_days = extra_days[-start_day:] + extra_days[:-start_day]\n",
    "    for day, extra_day in zip(weekday_count,extra_days):\n",
    "        weekday_count[day] += total_weeks + extra_day\n",
    "    # Now just sum up days that match the mask and return total value\n",
    "    total_weekdays = 0\n",
    "    for weekday in weekdays_mask:\n",
    "        total_weekdays += weekday_count[weekday]\n",
    "    return total_days, total_weekdays, total_weeks\n",
    "\n",
    "weekdays_between_dates(weekday1,weekday2)\n",
    "weekdays_between_dates(weekday1,weekday5)"
   ]
  },
  {
   "cell_type": "markdown",
   "metadata": {},
   "source": [
    "The function is now outputting total number of days weeks and weekdays. We'll need to add a section to convert\n",
    "the output into various timeunits. We'll also need to add a flag to indicate whether the end_date is\n",
    "inclusive or not"
   ]
  },
  {
   "cell_type": "code",
   "execution_count": 20,
   "metadata": {
    "pycharm": {
     "name": "#%%\n"
    }
   },
   "outputs": [
    {
     "name": "stdout",
     "output_type": "stream",
     "text": [
      "5\n"
     ]
    },
    {
     "data": {
      "text/plain": "5"
     },
     "execution_count": 20,
     "metadata": {},
     "output_type": "execute_result"
    }
   ],
   "source": [
    "import numpy as np\n",
    "\n",
    "weekday1 = '2020-11-23'  #Monday\n",
    "weekday2 = '2020-11-22'  #Sunday\n",
    "weekday3 = '2020-11-30'  #Next Monday\n",
    "weekday4 = '2020-12-14'  #Three weeks\n",
    "weekday5 = '2020-12-15'\n",
    "\n",
    "print(np.busday_count(weekday2,weekday3))\n",
    "\n",
    "weekdays_between_dates(weekday2,weekday3)[1]"
   ]
  },
  {
   "cell_type": "markdown",
   "metadata": {},
   "source": [
    "Did some refactoring, forgot to write in journal. Wrote a function to handling the report units. Just testing\n",
    "here"
   ]
  },
  {
   "cell_type": "code",
   "execution_count": 21,
   "metadata": {
    "pycharm": {
     "name": "#%%\n"
    }
   },
   "outputs": [
    {
     "name": "stdout",
     "output_type": "stream",
     "text": [
      "365\n",
      "525600.0\n",
      "8760.0\n",
      "31536000.0\n",
      "1.0\n"
     ]
    }
   ],
   "source": [
    "year = dt.timedelta(days=365)\n",
    "\n",
    "def time_report_units(timedelta, units='days'):\n",
    "    if units == 'seconds':\n",
    "        return timedelta.total_seconds()\n",
    "    elif units == 'minutes':\n",
    "        return timedelta.total_seconds()//60\n",
    "    elif units == 'hours':\n",
    "        return timedelta.total_seconds()//3600\n",
    "    elif units =='days':\n",
    "        return timedelta.days\n",
    "    elif units == 'years':\n",
    "        return timedelta.total_seconds()/31536000\n",
    "\n",
    "print(time_report_units(year, units='days'))\n",
    "print(time_report_units(year, units='minutes'))\n",
    "print(time_report_units(year, units='hours'))\n",
    "print(time_report_units(year, units='seconds'))\n",
    "print(time_report_units(year, units='years'))"
   ]
  },
  {
   "cell_type": "markdown",
   "metadata": {
    "pycharm": {
     "name": "#%% md\n"
    }
   },
   "source": [
    "Let's write a function to process the date time strings and ensure they are aware\n"
   ]
  },
  {
   "cell_type": "code",
   "execution_count": 22,
   "metadata": {
    "pycharm": {
     "name": "#%%\n"
    }
   },
   "outputs": [
    {
     "name": "stdout",
     "output_type": "stream",
     "text": [
      "Hello\n",
      "2020-11-22 00:00:00\n"
     ]
    }
   ],
   "source": [
    "def date_string_processor(date):\n",
    "    try:\n",
    "        date = dt.datetime.fromisoformat(date)\n",
    "    except:\n",
    "        return 'Input Error. Please format date strings as YYYY-MM-DD'\n",
    "    else:\n",
    "        print('Hello')\n",
    "        if date.tzinfo is not None and date.tzinfo.utcoffset(date) is not None :\n",
    "            print('Aware datetime object')\n",
    "    finally:\n",
    "        print(date)\n",
    "\n",
    "\n",
    "date_string_processor(weekday2)\n"
   ]
  },
  {
   "cell_type": "code",
   "execution_count": 23,
   "metadata": {
    "pycharm": {
     "name": "#%%\n"
    }
   },
   "outputs": [
    {
     "name": "stdout",
     "output_type": "stream",
     "text": [
      "365\n",
      "525600.0\n",
      "8760.0\n",
      "31536000.0\n",
      "1.0\n"
     ]
    }
   ],
   "source": [
    "year = dt.timedelta(days=365)\n",
    "\n",
    "def time_report_units(timedelta, units='days'):\n",
    "    if units == 'seconds':\n",
    "        return timedelta.total_seconds()\n",
    "    elif units == 'minutes':\n",
    "        return timedelta.total_seconds()//60\n",
    "    elif units == 'hours':\n",
    "        return timedelta.total_seconds()//3600\n",
    "    elif units =='days':\n",
    "        return timedelta.days\n",
    "    elif units == 'years':\n",
    "        return timedelta.total_seconds()/31536000\n",
    "\n",
    "print(time_report_units(year, units='days'))\n",
    "print(time_report_units(year, units='minutes'))\n",
    "print(time_report_units(year, units='hours'))\n",
    "print(time_report_units(year, units='seconds'))\n",
    "print(time_report_units(year, units='years'))"
   ]
  },
  {
   "cell_type": "code",
   "execution_count": 30,
   "metadata": {
    "pycharm": {
     "name": "#%%\n"
    }
   },
   "outputs": [],
   "source": [
    "from pytz import timezone\n",
    "import pytz\n",
    "\n",
    "utc = pytz.utc\n",
    "utc.zone\n",
    "eastern = timezone('US/Eastern')\n",
    "eastern.zone\n",
    "fmt = '%Y-%m-%d %H:%M:%S %Z%z'\n",
    "\n",
    "def date_string_processor(date, timezone='utc'):\n",
    "    date = dt.datetime.fromisoformat(date)\n",
    "    if date.tzinfo is None :\n",
    "        date = utc.localize(date)\n",
    "    else:\n",
    "        print(date.strftime(fmt))\n",
    "\n",
    "date_string_processor(weekday1)"
   ]
  }
 ],
 "metadata": {
  "kernelspec": {
   "display_name": "Python 3",
   "language": "python",
   "name": "python3"
  },
  "language_info": {
   "codemirror_mode": {
    "name": "ipython",
    "version": 3
   },
   "file_extension": ".py",
   "mimetype": "text/x-python",
   "name": "python",
   "nbconvert_exporter": "python",
   "pygments_lexer": "ipython3",
   "version": "3.7.4"
  }
 },
 "nbformat": 4,
 "nbformat_minor": 1
}